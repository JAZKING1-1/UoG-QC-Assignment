{
 "cells": [
  {
   "cell_type": "code",
   "execution_count": null,
   "id": "77c0196e-4446-4466-951c-13e1b59f9642",
   "metadata": {},
   "outputs": [],
   "source": [
    "%pip install qiskit==1.2.4\n",
    "%pip install qiskit-aer==0.15.1\n",
    "%pip install pylatexenc==2.10"
   ]
  },
  {
   "cell_type": "code",
   "execution_count": null,
   "id": "c16cd3de-f076-496b-8661-4b1efd19a244",
   "metadata": {},
   "outputs": [],
   "source": [
    "from qiskit import QuantumCircuit\n",
    "from qiskit.converters import circuit_to_gate\n",
    "from qiskit.visualization import array_to_latex\n",
    "from qiskit.quantum_info import Operator\n",
    "from qiskit.quantum_info import Statevector\n",
    "from qiskit import transpile \n",
    "from qiskit.providers.basic_provider import BasicSimulator\n",
    "from qiskit.visualization import plot_histogram\n",
    "from qiskit.circuit import ControlledGate\n",
    "import math \n",
    "import numpy as np\n",
    "from qiskit import ClassicalRegister\n",
    "from qiskit_aer import AerSimulator\n",
    "import matplotlib.pyplot as plt\n",
    "\n",
    "# The aim of the assignment is to simulate the Ekert91 key distribution protocol.\n",
    "# This notebook is for a simulation of the protocol without an attacker.\n"
   ]
  },
  {
   "cell_type": "code",
   "execution_count": null,
   "id": "ekert91-implementation",
   "metadata": {},
   "outputs": [],
   "source": [
    "def create_entangled_pair():\n",
    "    qc = QuantumCircuit(2)\n",
    "    qc.x(1)\n",
    "    qc.h(0)\n",
    "    qc.cx(0, 1)\n",
    "    qc.z(0)\n",
    "    return qc\n",
    "\n",
    "def apply_measurement(qc, qubit, basis):\n",
    "    if basis == 1:\n",
    "        qc.h(qubit)\n",
    "    elif basis == 2:\n",
    "        qc.sdg(qubit)\n",
    "        qc.h(qubit)\n",
    "    elif basis == 3:\n",
    "        qc.s(qubit)\n",
    "        qc.h(qubit)\n",
    "\n",
    "def quantum_choice():\n",
    "    qc = QuantumCircuit(1, 1)\n",
    "    theta = 2 * np.arccos(np.sqrt(1/3))\n",
    "    qc.ry(theta, 0)\n",
    "    qc.measure(0, 0)\n",
    "    result = AerSimulator().run(qc, shots=1).result()\n",
    "    if '0' in result.get_counts():\n",
    "        return 1\n",
    "    else:\n",
    "        qc = QuantumCircuit(1, 1)\n",
    "        qc.h(0)\n",
    "        qc.measure(0, 0)\n",
    "        result = AerSimulator().run(qc, shots=1).result()\n",
    "        return 2 if '0' in result.get_counts() else 3\n",
    "\n",
    "def simulate_ekert91(num_pairs):\n",
    "    alice_bases, bob_bases, results = [], [], []\n",
    "    simulator = AerSimulator()\n",
    "    for _ in range(num_pairs):\n",
    "        qc = create_entangled_pair()\n",
    "        a_basis = quantum_choice()\n",
    "        b_basis = quantum_choice()\n",
    "        apply_measurement(qc, 0, a_basis)\n",
    "        apply_measurement(qc, 1, b_basis)\n",
    "        qc.measure_all()\n",
    "        result = simulator.run(qc, shots=1).result()\n",
    "        outcome = list(result.get_counts().keys())[0]\n",
    "        alice_bases.append(a_basis)\n",
    "        bob_bases.append(b_basis)\n",
    "        results.append((int(outcome[0]), int(outcome[1])))\n",
    "    return alice_bases, bob_bases, results\n"
   ]
  }
 ],
 "metadata": {
  "kernelspec": {
   "display_name": "Python 3 [qBraid]",
   "language": "python",
   "name": "python3_qbraid_sdk_9j9sjy"
  },
  "language_info": {
   "codemirror_mode": {
    "name": "ipython",
    "version": 3
   },
   "file_extension": ".py",
   "mimetype": "text/x-python",
   "name": "python",
   "nbconvert_exporter": "python",
   "pygments_lexer": "ipython3",
   "version": "3.11.9"
  }
 },
 "nbformat": 4,
 "nbformat_minor": 5
}
