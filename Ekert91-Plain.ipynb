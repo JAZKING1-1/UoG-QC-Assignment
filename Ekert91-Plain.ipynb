import math
import numpy as np
from qiskit import QuantumCircuit, ClassicalRegister
from qiskit_aer import AerSimulator
import matplotlib.pyplot as plt

# ======================== QUANTUM COMPONENTS ========================

def create_entangled_pair():
    """Creates the singlet state |Ψ⁻⟩ = (|01⟩ - |10⟩)/√2"""
    qc = QuantumCircuit(2)
    qc.x(1)          # Initialize to |1⟩
    qc.h(0)          # Create superposition
    qc.cx(0, 1)      # Entangle qubits (Bell state)
    qc.z(0)          # Convert to singlet state
    return qc

def apply_measurement(qc, qubit, basis):
    """Applies measurement basis to specified qubit"""
    if basis == 1:    # X basis
        qc.h(qubit)
    elif basis == 2:  # W basis (H.S†)
        qc.sdg(qubit)
        qc.h(qubit)
    elif basis == 3:  # V basis (H.S)
        qc.s(qubit)
        qc.h(qubit)

def quantum_choice():
    """True quantum random basis selection"""
    qc = QuantumCircuit(1, 1)
    theta = 2 * np.arccos(np.sqrt(1/3))
    qc.ry(theta, 0)
    qc.measure(0, 0)
    result = AerSimulator().run(qc, shots=1).result()
    
    if '0' in result.get_counts():
        return 1  # X basis
    else:
        # Secondary quantum choice
        qc = QuantumCircuit(1, 1)
        qc.h(0)
        qc.measure(0, 0)
        result = AerSimulator().run(qc, shots=1).result()
        return 2 if '0' in result.get_counts() else 3

# ======================== PROTOCOL IMPLEMENTATION ========================

def simulate_ekert91(num_pairs):
    """Simulates E91 protocol with quantum measurements"""
    alice_bases, bob_bases, results = [], [], []
    simulator = AerSimulator()
    
    for _ in range(num_pairs):
        qc = create_entangled_pair()
        
        # Quantum basis selection
        a_basis = quantum_choice()
        b_basis = quantum_choice()
        
        # Apply measurements
        apply_measurement(qc, 0, a_basis)
        apply_measurement(qc, 1, b_basis)
        qc.measure_all()
        
        # Execute simulation
        result = simulator.run(qc, shots=1).result()
        outcome = list(result.get_counts().keys())[0]
        
        # Store results
        alice_bases.append(a_basis)
        bob_bases.append(b_basis)
        results.append((int(outcome[0]), int(outcome[1])))
    
    return alice_bases, bob_bases, results

def calculate_s(alice_bases, bob_bases, results):
    """Calculates CHSH S-value with correct basis mapping"""
    basis_map = {
        (1, 1): 'XW',  # Alice X, Bob W
        (1, 3): 'XV',   # Alice X, Bob V
        (3, 1): 'ZW',   # Alice Z, Bob W
        (3, 3): 'ZV'    # Alice Z, Bob V
    }
    
    correlations = {'XW': [], 'XV': [], 'ZW': [], 'ZV': []}
    
    for (a_b, b_b), (a_bit, b_bit) in zip(zip(alice_bases, bob_bases), results):
        key = basis_map.get((a_b, b_b))
        if key:
            # Convert bits to ±1 values
            alice_val = (-1)**a_bit
            bob_val = (-1)**b_bit
            correlations[key].append(alice_val * bob_val)
    
    # Calculate expectation values
    E_xw = np.mean(correlations['XW']) if correlations['XW'] else 0
    E_xv = np.mean(correlations['XV']) if correlations['XV'] else 0
    E_zw = np.mean(correlations['ZW']) if correlations['ZW'] else 0
    E_zv = np.mean(correlations['ZV']) if correlations['ZV'] else 0
    
    S = abs(E_xw - E_xv + E_zw + E_zv)
    
    # Security threshold
    quantum_bound = 2 * np.sqrt(2)
    if S > 2.5:
        print(f"\n\033[1;32m✅ SECURE (S = {S:.3f} > 2.5 | Quantum Bound: {quantum_bound:.3f})\033[0m")
    else:
        print(f"\n\033[1;31m🚨 INSECURE (S = {S:.3f} ≤ 2.5 | Classical Bound: 2.000)\033[0m")
    
    return S

# ======================== VISUALIZATION & ANALYSIS ========================

def visualize_results(s_value, shared_key):
    """Displays protocol verification results"""
    plt.figure(figsize=(12, 6))
    
    # Bell inequality plot
    plt.subplot(1, 2, 1)
    plt.title("Bell Inequality Verification")
    bars = plt.bar(['Classical', 'Experimental', 'Quantum'], 
                  [2.0, s_value, 2*np.sqrt(2)],
                  color=['#ff6b6b', '#4ecdc4', '#45b7d1'])
    plt.axhline(2.0, color='#ff6b6b', linestyle='--', label='Classical Bound')
    plt.axhline(2*np.sqrt(2), color='#45b7d1', linestyle='--', label='Quantum Bound')
    plt.ylabel('|S| Value')
    plt.ylim(0, 3.5)
    plt.legend()
    plt.grid(axis='y', alpha=0.3)
    
    # Key distribution plot
    plt.subplot(1, 2, 2)
    plt.title("Shared Key Distribution")
    plt.hist([int(bit) for bit in shared_key], 
             bins=[-0.5, 0.5, 1.5], 
             rwidth=0.8,
             color='#4ecdc4')
    plt.xticks([0, 1], ['0', '1'])
    plt.xlabel('Bit Value')
    plt.ylabel('Count')
    plt.grid(axis='y', alpha=0.3)
    
    plt.tight_layout()
    plt.show()

# ======================== MAIN EXECUTION ========================

if __name__ == "__main__":
    # Configuration
    num_pairs = 5000  # Total entangled pairs
    print("Running E91 Quantum Key Distribution Protocol...")
    
    # Simulate protocol
    a_bases, b_bases, results = simulate_ekert91(num_pairs)
    
    # Calculate security parameter
    s_value = calculate_s(a_bases, b_bases, results)
    
    # Generate shared key from matching bases
    shared_key = []
    for a_b, b_b, (a_bit, b_bit) in zip(a_bases, b_bases, results):
        # Correct key generation bases: (Alice Z, Bob Z) and (Alice W, Bob W)
        if (a_b == 3 and b_b == 2) or (a_b == 2 and b_b == 1):
            shared_key.append(str(a_bit))
    
    print(f"\n🔑 Shared Key: {len(shared_key)} bits "
          f"(Rate: {len(shared_key)/num_pairs*100:.1f}%)")
    print("Sample key:", ''.join(shared_key[:50]) + "...")
    
    # Visualize results
    visualize_results(s_value, shared_key)

    
