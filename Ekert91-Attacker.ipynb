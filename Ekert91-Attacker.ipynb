{
 "cells": [
  {
   "cell_type": "code",
   "execution_count": null,
   "id": "install_dependencies",
   "metadata": {},
   "outputs": [],
   "source": [
    "# Install necessary dependencies\n",
    "!pip install qiskit qiskit-aer matplotlib numpy"
   ]
  },
  {
   "cell_type": "code",
   "execution_count": null,
   "id": "import_libraries",
   "metadata": {},
   "outputs": [],
   "source": [
    "import math\n",
    "import numpy as np\n",
    "from qiskit import QuantumCircuit, ClassicalRegister\n",
    "from qiskit_aer import AerSimulator\n",
    "import matplotlib.pyplot as plt"
   ]
  },
  {
   "cell_type": "code",
   "execution_count": null,
   "id": "create_entangled_pair",
   "metadata": {},
   "outputs": [],
   "source": [
    "def create_entangled_pair():\n",
    "    \"\"\"Creates the singlet state |\u03a8\u207b\u27e8 = (|01\u27e8 - |10\u27e8)/\u221a2\"\"\"\n",
    "    qc = QuantumCircuit(2)\n",
    "    qc.x(1)          # Initialize to |1\u27e8\n",
    "    qc.h(0)          # Create superposition\n",
    "    qc.cx(0, 1)      # Entangle qubits (Bell state)\n",
    "    qc.z(0)          # Convert to singlet state\n",
    "    return qc"
   ]
  },
  {
   "cell_type": "code",
   "execution_count": null,
   "id": "apply_measurement",
   "metadata": {},
   "outputs": [],
   "source": [
    "def apply_measurement(qc, qubit, basis):\n",
    "    \"\"\"Applies measurement basis to specified qubit\"\"\"\n",
    "    if basis == 1:    # X basis\n",
    "        qc.h(qubit)\n",
    "    elif basis == 2:  # W basis (H.S\u2020)\n",
    "        qc.sdg(qubit)\n",
    "        qc.h(qubit)\n",
    "    elif basis == 3:  # V basis (H.S)\n",
    "        qc.s(qubit)\n",
    "        qc.h(qubit)"
   ]
  },
  {
   "cell_type": "code",
   "execution_count": null,
   "id": "quantum_choice",
   "metadata": {},
   "outputs": [],
   "source": [
    "def quantum_choice():\n",
    "    \"\"\"True quantum random basis selection\"\"\"\n",
    "    qc = QuantumCircuit(1, 1)\n",
    "    theta = 2 * np.arccos(np.sqrt(1/3))\n",
    "    qc.ry(theta, 0)\n",
    "    qc.measure(0, 0)\n",
    "    result = AerSimulator().run(qc, shots=1).result()\n",
    "    \n",
    "    if '0' in result.get_counts():\n",
    "        return 1  # X basis\n",
    "    else:\n",
    "        # Secondary quantum choice\n",
    "        qc = QuantumCircuit(1, 1)\n",
    "        qc.h(0)\n",
    "        qc.measure(0, 0)\n",
    "        result = AerSimulator().run(qc, shots=1).result()\n",
    "        return 2 if '0' in result.get_counts() else 3"
   ]
  }
 ],
 "metadata": {
  "kernelspec": {
   "display_name": "Python 3",
   "language": "python",
   "name": "python3"
  },
  "language_info": {
   "codemirror_mode": {
    "name": "ipython",
    "version": 3
   },
   "file_extension": ".py",
   "mimetype": "text/x-python",
   "name": "python",
   "nbconvert_exporter": "python",
   "pygments_lexer": "ipython3",
   "version": "3.8"
  }
 },
 "nbformat": 4,
 "nbformat_minor": 5
}
